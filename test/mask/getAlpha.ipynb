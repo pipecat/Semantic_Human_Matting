{
 "metadata": {
  "language_info": {
   "codemirror_mode": {
    "name": "ipython",
    "version": 3
   },
   "file_extension": ".py",
   "mimetype": "text/x-python",
   "name": "python",
   "nbconvert_exporter": "python",
   "pygments_lexer": "ipython3",
   "version": "3.6.10-final"
  },
  "orig_nbformat": 2,
  "kernelspec": {
   "name": "python361064bitmobilehumanconda96959c72ec994a4d9948e733f1b88159",
   "display_name": "Python 3.6.10 64-bit ('mobile_human': conda)"
  }
 },
 "nbformat": 4,
 "nbformat_minor": 2,
 "cells": [
  {
   "cell_type": "code",
   "execution_count": 49,
   "metadata": {},
   "outputs": [],
   "source": [
    "import cv2"
   ]
  },
  {
   "cell_type": "code",
   "execution_count": 50,
   "metadata": {},
   "outputs": [],
   "source": [
    "import numpy as np"
   ]
  },
  {
   "cell_type": "code",
   "execution_count": 51,
   "metadata": {},
   "outputs": [],
   "source": [
    "src = cv2.imread('test1.png', cv2.IMREAD_UNCHANGED)"
   ]
  },
  {
   "cell_type": "code",
   "execution_count": 52,
   "metadata": {},
   "outputs": [
    {
     "output_type": "execute_result",
     "data": {
      "text/plain": "array([[[255, 255, 255,   0],\n        [255, 255, 255,   0],\n        [255, 255, 255,   0],\n        ...,\n        [255, 255, 255,   0],\n        [255, 255, 255,   0],\n        [255, 255, 255,   0]],\n\n       [[255, 255, 255,   0],\n        [255, 255, 255,   0],\n        [255, 255, 255,   0],\n        ...,\n        [255, 255, 255,   0],\n        [255, 255, 255,   0],\n        [255, 255, 255,   0]],\n\n       [[255, 255, 255,   0],\n        [255, 255, 255,   0],\n        [255, 255, 255,   0],\n        ...,\n        [255, 255, 255,   0],\n        [255, 255, 255,   0],\n        [255, 255, 255,   0]],\n\n       ...,\n\n       [[255, 255, 255,   0],\n        [255, 255, 255,   0],\n        [255, 255, 255,   0],\n        ...,\n        [255, 255, 255,   0],\n        [255, 255, 255,   0],\n        [255, 255, 255,   0]],\n\n       [[255, 255, 255,   0],\n        [255, 255, 255,   0],\n        [255, 255, 255,   0],\n        ...,\n        [255, 255, 255,   0],\n        [255, 255, 255,   0],\n        [255, 255, 255,   0]],\n\n       [[255, 255, 255,   0],\n        [255, 255, 255,   0],\n        [255, 255, 255,   0],\n        ...,\n        [255, 255, 255,   0],\n        [255, 255, 255,   0],\n        [255, 255, 255,   0]]], dtype=uint8)"
     },
     "metadata": {},
     "execution_count": 52
    }
   ],
   "source": [
    "src"
   ]
  },
  {
   "cell_type": "code",
   "execution_count": 53,
   "metadata": {},
   "outputs": [],
   "source": [
    "alpha = src[:,:,3]"
   ]
  },
  {
   "cell_type": "code",
   "execution_count": 54,
   "metadata": {},
   "outputs": [
    {
     "output_type": "execute_result",
     "data": {
      "text/plain": "True"
     },
     "metadata": {},
     "execution_count": 54
    }
   ],
   "source": [
    "cv2.imwrite('alpha.png', alpha)"
   ]
  },
  {
   "cell_type": "code",
   "execution_count": 55,
   "metadata": {},
   "outputs": [],
   "source": [
    "mask = cv2.imread('result.jpg', 0)"
   ]
  },
  {
   "cell_type": "code",
   "execution_count": 56,
   "metadata": {},
   "outputs": [
    {
     "output_type": "execute_result",
     "data": {
      "text/plain": "True"
     },
     "metadata": {},
     "execution_count": 56
    }
   ],
   "source": [
    "cv2.imwrite('temp.jpg', mask)"
   ]
  },
  {
   "cell_type": "code",
   "execution_count": 57,
   "metadata": {},
   "outputs": [],
   "source": [
    "kernel = cv2.getStructuringElement(cv2.MORPH_ELLIPSE, (30,30))"
   ]
  },
  {
   "cell_type": "code",
   "execution_count": 58,
   "metadata": {},
   "outputs": [],
   "source": [
    "dilated = cv2.dilate(mask, kernel, iterations=1)"
   ]
  },
  {
   "cell_type": "code",
   "execution_count": 59,
   "metadata": {},
   "outputs": [
    {
     "output_type": "execute_result",
     "data": {
      "text/plain": "True"
     },
     "metadata": {},
     "execution_count": 59
    }
   ],
   "source": [
    "cv2.imwrite('dilated.jpg', dilated)"
   ]
  },
  {
   "cell_type": "code",
   "execution_count": 60,
   "metadata": {},
   "outputs": [],
   "source": [
    "eroded = cv2.erode(mask, kernel, iterations=1)"
   ]
  },
  {
   "cell_type": "code",
   "execution_count": 61,
   "metadata": {},
   "outputs": [
    {
     "output_type": "execute_result",
     "data": {
      "text/plain": "True"
     },
     "metadata": {},
     "execution_count": 61
    }
   ],
   "source": [
    "cv2.imwrite('eroded.jpg', eroded)"
   ]
  },
  {
   "cell_type": "code",
   "execution_count": 62,
   "metadata": {},
   "outputs": [],
   "source": [
    "res = dilated.copy()\n",
    "res[((dilated == 255) & (eroded == 0))] = 128"
   ]
  },
  {
   "cell_type": "code",
   "execution_count": 63,
   "metadata": {},
   "outputs": [
    {
     "output_type": "execute_result",
     "data": {
      "text/plain": "True"
     },
     "metadata": {},
     "execution_count": 63
    }
   ],
   "source": [
    "cv2.imwrite('trimap.png', res)"
   ]
  },
  {
   "cell_type": "code",
   "execution_count": null,
   "metadata": {},
   "outputs": [],
   "source": []
  }
 ]
}