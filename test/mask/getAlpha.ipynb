{
 "metadata": {
  "language_info": {
   "codemirror_mode": {
    "name": "ipython",
    "version": 3
   },
   "file_extension": ".py",
   "mimetype": "text/x-python",
   "name": "python",
   "nbconvert_exporter": "python",
   "pygments_lexer": "ipython3",
   "version": "3.6.10-final"
  },
  "orig_nbformat": 2,
  "kernelspec": {
   "name": "python361064bitmobilehumanconda96959c72ec994a4d9948e733f1b88159",
   "display_name": "Python 3.6.10 64-bit ('mobile_human': conda)"
  }
 },
 "nbformat": 4,
 "nbformat_minor": 2,
 "cells": [
  {
   "cell_type": "code",
   "execution_count": 1,
   "metadata": {},
   "outputs": [],
   "source": [
    "import cv2"
   ]
  },
  {
   "cell_type": "code",
   "execution_count": 3,
   "metadata": {},
   "outputs": [],
   "source": [
    "import numpy as np"
   ]
  },
  {
   "cell_type": "code",
   "execution_count": 4,
   "metadata": {},
   "outputs": [],
   "source": [
    "src = cv2.imread('test1.png', cv2.IMREAD_UNCHANGED)"
   ]
  },
  {
   "cell_type": "code",
   "execution_count": 5,
   "metadata": {},
   "outputs": [
    {
     "output_type": "execute_result",
     "data": {
      "text/plain": "array([[[255, 255, 255,   0],\n        [255, 255, 255,   0],\n        [255, 255, 255,   0],\n        ...,\n        [255, 255, 255,   0],\n        [255, 255, 255,   0],\n        [255, 255, 255,   0]],\n\n       [[255, 255, 255,   0],\n        [255, 255, 255,   0],\n        [255, 255, 255,   0],\n        ...,\n        [255, 255, 255,   0],\n        [255, 255, 255,   0],\n        [255, 255, 255,   0]],\n\n       [[255, 255, 255,   0],\n        [255, 255, 255,   0],\n        [255, 255, 255,   0],\n        ...,\n        [255, 255, 255,   0],\n        [255, 255, 255,   0],\n        [255, 255, 255,   0]],\n\n       ...,\n\n       [[255, 255, 255,   0],\n        [255, 255, 255,   0],\n        [255, 255, 255,   0],\n        ...,\n        [255, 255, 255,   0],\n        [255, 255, 255,   0],\n        [255, 255, 255,   0]],\n\n       [[255, 255, 255,   0],\n        [255, 255, 255,   0],\n        [255, 255, 255,   0],\n        ...,\n        [255, 255, 255,   0],\n        [255, 255, 255,   0],\n        [255, 255, 255,   0]],\n\n       [[255, 255, 255,   0],\n        [255, 255, 255,   0],\n        [255, 255, 255,   0],\n        ...,\n        [255, 255, 255,   0],\n        [255, 255, 255,   0],\n        [255, 255, 255,   0]]], dtype=uint8)"
     },
     "metadata": {},
     "execution_count": 5
    }
   ],
   "source": [
    "src"
   ]
  },
  {
   "cell_type": "code",
   "execution_count": 6,
   "metadata": {},
   "outputs": [],
   "source": [
    "alpha = src[:,:,3]"
   ]
  },
  {
   "cell_type": "code",
   "execution_count": 7,
   "metadata": {},
   "outputs": [
    {
     "output_type": "execute_result",
     "data": {
      "text/plain": "True"
     },
     "metadata": {},
     "execution_count": 7
    }
   ],
   "source": [
    "cv2.imwrite('alpha.png', alpha)"
   ]
  },
  {
   "cell_type": "code",
   "execution_count": 8,
   "metadata": {},
   "outputs": [],
   "source": [
    "mask = cv2.imread('result.jpg', 0)"
   ]
  },
  {
   "cell_type": "code",
   "execution_count": 9,
   "metadata": {},
   "outputs": [
    {
     "output_type": "execute_result",
     "data": {
      "text/plain": "True"
     },
     "metadata": {},
     "execution_count": 9
    }
   ],
   "source": [
    "cv2.imwrite('temp.jpg', mask)"
   ]
  },
  {
   "cell_type": "code",
   "execution_count": 14,
   "metadata": {},
   "outputs": [],
   "source": [
    "kernel = cv2.getStructuringElement(cv2.MORPH_ELLIPSE, (30,30))"
   ]
  },
  {
   "cell_type": "code",
   "execution_count": 15,
   "metadata": {},
   "outputs": [],
   "source": [
    "dilated = cv2.dilate(mask, kernel, iterations=1)"
   ]
  },
  {
   "cell_type": "code",
   "execution_count": 16,
   "metadata": {},
   "outputs": [
    {
     "output_type": "execute_result",
     "data": {
      "text/plain": "True"
     },
     "metadata": {},
     "execution_count": 16
    }
   ],
   "source": [
    "cv2.imwrite('dilated.jpg', dilated)"
   ]
  },
  {
   "cell_type": "code",
   "execution_count": 17,
   "metadata": {},
   "outputs": [],
   "source": [
    "eroded = cv2.erode(mask, kernel, iterations=1)"
   ]
  },
  {
   "cell_type": "code",
   "execution_count": 18,
   "metadata": {},
   "outputs": [
    {
     "output_type": "execute_result",
     "data": {
      "text/plain": "True"
     },
     "metadata": {},
     "execution_count": 18
    }
   ],
   "source": [
    "cv2.imwrite('eroded.jpg', eroded)"
   ]
  },
  {
   "cell_type": "code",
   "execution_count": 19,
   "metadata": {},
   "outputs": [],
   "source": [
    "res = dilated.copy()\n",
    "res[((dilated == 255) & (eroded == 0))] = 128"
   ]
  },
  {
   "cell_type": "code",
   "execution_count": 20,
   "metadata": {},
   "outputs": [
    {
     "output_type": "execute_result",
     "data": {
      "text/plain": "True"
     },
     "metadata": {},
     "execution_count": 20
    }
   ],
   "source": [
    "cv2.imwrite('trimap.jpg', res)"
   ]
  },
  {
   "cell_type": "code",
   "execution_count": 21,
   "metadata": {},
   "outputs": [
    {
     "output_type": "execute_result",
     "data": {
      "text/plain": "True"
     },
     "metadata": {},
     "execution_count": 21
    }
   ],
   "source": [
    "cv2.imwrite('trimap.png', res)"
   ]
  },
  {
   "cell_type": "code",
   "execution_count": null,
   "metadata": {},
   "outputs": [],
   "source": []
  }
 ]
}